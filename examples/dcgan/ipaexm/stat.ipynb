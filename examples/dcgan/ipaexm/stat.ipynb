{
 "cells": [
  {
   "cell_type": "code",
   "execution_count": 1,
   "metadata": {},
   "outputs": [],
   "source": [
    "import subprocess\n",
    "import os\n",
    "\n",
    "import pandas as pd\n",
    "import matplotlib.pyplot as plt"
   ]
  },
  {
   "cell_type": "code",
   "execution_count": 2,
   "metadata": {},
   "outputs": [],
   "source": [
    "!poetry run ganji log >log.csv 2>/dev/null"
   ]
  },
  {
   "cell_type": "code",
   "execution_count": 3,
   "metadata": {},
   "outputs": [
    {
     "data": {
      "text/html": [
       "<div>\n",
       "<style scoped>\n",
       "    .dataframe tbody tr th:only-of-type {\n",
       "        vertical-align: middle;\n",
       "    }\n",
       "\n",
       "    .dataframe tbody tr th {\n",
       "        vertical-align: top;\n",
       "    }\n",
       "\n",
       "    .dataframe thead th {\n",
       "        text-align: right;\n",
       "    }\n",
       "</style>\n",
       "<table border=\"1\" class=\"dataframe\">\n",
       "  <thead>\n",
       "    <tr style=\"text-align: right;\">\n",
       "      <th></th>\n",
       "      <th>epoch</th>\n",
       "      <th>g_loss</th>\n",
       "      <th>d_loss</th>\n",
       "      <th>d_acc</th>\n",
       "    </tr>\n",
       "  </thead>\n",
       "  <tbody>\n",
       "    <tr>\n",
       "      <th>0</th>\n",
       "      <td>0</td>\n",
       "      <td>0.757312</td>\n",
       "      <td>0.687568</td>\n",
       "      <td>0.574219</td>\n",
       "    </tr>\n",
       "    <tr>\n",
       "      <th>1</th>\n",
       "      <td>1</td>\n",
       "      <td>0.902870</td>\n",
       "      <td>0.461879</td>\n",
       "      <td>0.733398</td>\n",
       "    </tr>\n",
       "    <tr>\n",
       "      <th>2</th>\n",
       "      <td>2</td>\n",
       "      <td>0.725198</td>\n",
       "      <td>0.360665</td>\n",
       "      <td>0.725098</td>\n",
       "    </tr>\n",
       "    <tr>\n",
       "      <th>3</th>\n",
       "      <td>3</td>\n",
       "      <td>0.772328</td>\n",
       "      <td>0.387021</td>\n",
       "      <td>0.738770</td>\n",
       "    </tr>\n",
       "    <tr>\n",
       "      <th>4</th>\n",
       "      <td>4</td>\n",
       "      <td>0.820350</td>\n",
       "      <td>0.365484</td>\n",
       "      <td>0.744141</td>\n",
       "    </tr>\n",
       "    <tr>\n",
       "      <th>...</th>\n",
       "      <td>...</td>\n",
       "      <td>...</td>\n",
       "      <td>...</td>\n",
       "      <td>...</td>\n",
       "    </tr>\n",
       "    <tr>\n",
       "      <th>64943</th>\n",
       "      <td>64943</td>\n",
       "      <td>13.398191</td>\n",
       "      <td>0.000071</td>\n",
       "      <td>1.000000</td>\n",
       "    </tr>\n",
       "    <tr>\n",
       "      <th>64944</th>\n",
       "      <td>64944</td>\n",
       "      <td>12.823531</td>\n",
       "      <td>0.000094</td>\n",
       "      <td>1.000000</td>\n",
       "    </tr>\n",
       "    <tr>\n",
       "      <th>64945</th>\n",
       "      <td>64945</td>\n",
       "      <td>12.647994</td>\n",
       "      <td>0.000083</td>\n",
       "      <td>1.000000</td>\n",
       "    </tr>\n",
       "    <tr>\n",
       "      <th>64946</th>\n",
       "      <td>64946</td>\n",
       "      <td>12.702555</td>\n",
       "      <td>0.000098</td>\n",
       "      <td>1.000000</td>\n",
       "    </tr>\n",
       "    <tr>\n",
       "      <th>64947</th>\n",
       "      <td>64947</td>\n",
       "      <td>12.664316</td>\n",
       "      <td>0.000101</td>\n",
       "      <td>1.000000</td>\n",
       "    </tr>\n",
       "  </tbody>\n",
       "</table>\n",
       "<p>64948 rows × 4 columns</p>\n",
       "</div>"
      ],
      "text/plain": [
       "       epoch     g_loss    d_loss     d_acc\n",
       "0          0   0.757312  0.687568  0.574219\n",
       "1          1   0.902870  0.461879  0.733398\n",
       "2          2   0.725198  0.360665  0.725098\n",
       "3          3   0.772328  0.387021  0.738770\n",
       "4          4   0.820350  0.365484  0.744141\n",
       "...      ...        ...       ...       ...\n",
       "64943  64943  13.398191  0.000071  1.000000\n",
       "64944  64944  12.823531  0.000094  1.000000\n",
       "64945  64945  12.647994  0.000083  1.000000\n",
       "64946  64946  12.702555  0.000098  1.000000\n",
       "64947  64947  12.664316  0.000101  1.000000\n",
       "\n",
       "[64948 rows x 4 columns]"
      ]
     },
     "execution_count": 3,
     "metadata": {},
     "output_type": "execute_result"
    }
   ],
   "source": [
    "csv = \"log.csv\"\n",
    "data = pd.read_csv(csv, encoding = \"UTF-8\")\n",
    "data"
   ]
  },
  {
   "cell_type": "code",
   "execution_count": 4,
   "metadata": {},
   "outputs": [],
   "source": [
    "epoch_end = 50000"
   ]
  },
  {
   "cell_type": "code",
   "execution_count": 5,
   "metadata": {},
   "outputs": [
    {
     "data": {
      "image/png": "[encoded data removed]",
      "text/plain": [
       "<Figure size 432x288 with 3 Axes>"
      ]
     },
     "metadata": {
      "needs_background": "light"
     },
     "output_type": "display_data"
    }
   ],
   "source": [
    "subplots = data.plot(x=data.columns[0], xlim=(0, epoch_end), subplots=True)\n",
    "subplots[0].set_ylim((0, 20))\n",
    "subplots[1].set_ylim((0, 1.2))\n",
    "subplots[2].set_ylim((0, 1.2))\n",
    "None"
   ]
  },
  {
   "cell_type": "code",
   "execution_count": 6,
   "metadata": {},
   "outputs": [
    {
     "data": {
      "image/png": "[encoded data removed]",
      "text/plain": [
       "<Figure size 432x288 with 3 Axes>"
      ]
     },
     "metadata": {
      "needs_background": "light"
     },
     "output_type": "display_data"
    }
   ],
   "source": [
    "subplots = data.plot(x=data.columns[0], xlim=(0, 5000), subplots=True)\n",
    "subplots[0].set_ylim((0, 20))\n",
    "subplots[1].set_ylim((0, 1.2))\n",
    "subplots[2].set_ylim((0, 1.2))\n",
    "None"
   ]
  },
  {
   "cell_type": "code",
   "execution_count": 7,
   "metadata": {},
   "outputs": [],
   "source": [
    "from PIL import Image, ImageFont, ImageDraw\n",
    "\n",
    "font = ImageFont.truetype(\"/usr/share/fonts/TTF/JetBrainsMono-Bold.ttf\", 12)\n",
    "\n",
    "images = []\n",
    "for epoch in range(0, epoch_end + 1, 10):\n",
    "    image = Image.open(os.path.join(\"training\", f\"{epoch:06d}.png\"))\n",
    "    draw = ImageDraw.Draw(image)\n",
    "    draw.text(\n",
    "        (307, 1), f\"epoch={epoch:06d}\", font=font, align=\"right\",\n",
    "        fill=\"white\", stroke_width=2, stroke_fill=\"black\")\n",
    "    images.append(image)"
   ]
  },
  {
   "cell_type": "code",
   "execution_count": 8,
   "metadata": {},
   "outputs": [],
   "source": [
    "images[0].save('animation.gif', save_all=True, append_images=images[1:], optimize=True, duration=6, loop=0)"
   ]
  },
  {
   "cell_type": "code",
   "execution_count": 10,
   "metadata": {},
   "outputs": [
    {
     "name": "stdout",
     "output_type": "stream",
     "text": [
      "ffmpeg version n4.2.3 Copyright (c) 2000-2020 the FFmpeg developers\n",
      "  built with gcc 10.1.0 (GCC)\n",
      "  configuration: --prefix=/usr --disable-debug --disable-static --disable-stripping --enable-avisynth --enable-fontconfig --enable-gmp --enable-gnutls --enable-gpl --enable-ladspa --enable-libaom --enable-libass --enable-libbluray --enable-libdav1d --enable-libdrm --enable-libfreetype --enable-libfribidi --enable-libgsm --enable-libiec61883 --enable-libjack --enable-libmfx --enable-libmodplug --enable-libmp3lame --enable-libopencore_amrnb --enable-libopencore_amrwb --enable-libopenjpeg --enable-libopus --enable-libpulse --enable-libsoxr --enable-libspeex --enable-libsrt --enable-libssh --enable-libtheora --enable-libv4l2 --enable-libvidstab --enable-libvmaf --enable-libvorbis --enable-libvpx --enable-libwebp --enable-libx264 --enable-libx265 --enable-libxcb --enable-libxml2 --enable-libxvid --enable-nvdec --enable-nvenc --enable-omx --enable-shared --enable-version3\n",
      "  libavutil      56. 31.100 / 56. 31.100\n",
      "  libavcodec     58. 54.100 / 58. 54.100\n",
      "  libavformat    58. 29.100 / 58. 29.100\n",
      "  libavdevice    58.  8.100 / 58.  8.100\n",
      "  libavfilter     7. 57.100 /  7. 57.100\n",
      "  libswscale      5.  5.100 /  5.  5.100\n",
      "  libswresample   3.  5.100 /  3.  5.100\n",
      "  libpostproc    55.  5.100 / 55.  5.100\n",
      "Input #0, gif, from 'animation.gif':\n",
      "  Duration: N/A, start: 0.000000, bitrate: N/A\n",
      "    Stream #0:0: Video: gif, bgra, 400x400, 10 fps, 10 tbr, 100 tbn, 100 tbc\n",
      "Stream mapping:\n",
      "  Stream #0:0 -> #0:0 (gif (native) -> vp9 (libvpx-vp9))\n",
      "Press [q] to stop, [?] for help\n",
      "\u001b[1;36m[libvpx-vp9 @ 0x55b96588a480] \u001b[0mv1.8.2\n",
      "Output #0, webm, to 'animation.webm':\n",
      "  Metadata:\n",
      "    encoder         : Lavf58.29.100\n",
      "    Stream #0:0: Video: vp9 (libvpx-vp9), yuva420p, 400x400, q=3-40, 200 kb/s, 60 fps, 1k tbn, 60 tbc\n",
      "    Metadata:\n",
      "      encoder         : Lavc58.54.100 libvpx-vp9\n",
      "    Side data:\n",
      "      cpb: bitrate max/min/avg: 0/0/0 buffer size: 0 vbv_delay: -1\n",
      "frame= 5001 fps=8.7 q=0.0 Lsize=   89869kB time=00:01:23.23 bitrate=8845.0kbits/s speed=0.145x    \n",
      "video:89552kB audio:0kB subtitle:0kB other streams:0kB global headers:0kB muxing overhead: 0.354171%\n"
     ]
    }
   ],
   "source": [
    "!ffmpeg -y -r 60 -i animation.gif -row-mt 1 -crf 30 -qmin 3 -qmax 40 -threads 4 -c:v libvpx-vp9 animation.webm"
   ]
  }
 ],
 "metadata": {
  "kernelspec": {
   "display_name": "Python 3",
   "language": "python",
   "name": "python3"
  },
  "language_info": {
   "codemirror_mode": {
    "name": "ipython",
    "version": 3
   },
   "file_extension": ".py",
   "mimetype": "text/x-python",
   "name": "python",
   "nbconvert_exporter": "python",
   "pygments_lexer": "ipython3",
   "version": "3.8.3"
  }
 },
 "nbformat": 4,
 "nbformat_minor": 4
}
